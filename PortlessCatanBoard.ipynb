{
 "cells": [
  {
   "cell_type": "code",
   "execution_count": 1,
   "id": "bce7c48e-e049-4843-b6c2-3c56d59c98a7",
   "metadata": {},
   "outputs": [
    {
     "name": "stdout",
     "output_type": "stream",
     "text": [
      "\n",
      "\n",
      "                  wood (6)   sheep (8)   wheat (10)\n",
      "\n",
      "\n",
      "            sheep (4)   ore (11)   sheep (2)   wheat (8)\n",
      "\n",
      "\n",
      "      sheep (6)   wood (3)   brick (3)   brick (10)   brick (5)\n",
      "\n",
      "\n",
      "            ore (9)   wheat (4)   wheat (5)   desert\n",
      "\n",
      "\n",
      "                  wood (11)   ore (9)   wood (12)\n",
      "\n",
      "\n"
     ]
    },
    {
     "name": "stdin",
     "output_type": "stream",
     "text": [
      "Generate another board? (yes/no):  yes\n"
     ]
    },
    {
     "name": "stdout",
     "output_type": "stream",
     "text": [
      "\n",
      "\n",
      "                  ore (5)   sheep (9)   wood (8)\n",
      "\n",
      "\n",
      "            brick (6)   wood (5)   ore (10)   wheat (12)\n",
      "\n",
      "\n",
      "      wood (11)   sheep (4)   wheat (10)   sheep (4)   wood (3)\n",
      "\n",
      "\n",
      "            sheep (9)   brick (8)   ore (2)   brick (11)\n",
      "\n",
      "\n",
      "                  wheat (3)   wheat (6)   desert\n",
      "\n",
      "\n"
     ]
    },
    {
     "name": "stdin",
     "output_type": "stream",
     "text": [
      "Generate another board? (yes/no):  no\n"
     ]
    }
   ],
   "source": [
    "import random\n",
    "\n",
    "def translate_to_text(board_list):\n",
    "    text_list = ['desert', 'wheat', 'wood', 'sheep', 'brick', 'ore']\n",
    "    return [[text_list[tile] for tile in row] for row in board_list]\n",
    "\n",
    "def generate_board(board, numbers_list):\n",
    "    board_words = translate_to_text(board)\n",
    "    for i in range(len(board)):\n",
    "        for j in range(len(board[i])):\n",
    "            if board_words[i][j] != 'desert':\n",
    "                number = random.choice(numbers_list)\n",
    "                board_words[i][j] += f' ({number})'\n",
    "                numbers_list.remove(number)\n",
    "    return board_words\n",
    "\n",
    "def print_hex_board(board_words):\n",
    "    spacing = [6, 4, 2, 4, 6] if len(board_words) == 5 else [6, 4, 2, 0, 2, 4, 6]\n",
    "    print()\n",
    "    for i, row in enumerate(board_words):  \n",
    "        print()\n",
    "        print(\"   \" * spacing[i] + \"   \".join(row))\n",
    "        print()\n",
    "    print()\n",
    "\n",
    "def new_board():\n",
    "    tiles = [0, 1, 1, 1, 1, 2, 2, 2, 2, 3, 3, 3, 3, 4, 4, 4, 5, 5, 5]\n",
    "    numbers_list = [2, 3, 3, 4, 4, 5, 5, 6, 6, 8, 8, 9, 9, 10, 10, 11, 11, 12]\n",
    "    board = [[], [], [], [], []]\n",
    "    row_lengths = [3, 4, 5, 4, 3]\n",
    "    for i in range(len(row_lengths)):\n",
    "        while len(board[i]) < row_lengths[i]:\n",
    "            tile = random.choice(tiles)\n",
    "            board[i].append(tile)\n",
    "            tiles.remove(tile)\n",
    "    \n",
    "    board_words = generate_board(board, numbers_list)\n",
    "    print_hex_board(board_words)\n",
    "    \n",
    "    again = input('Generate another board? (yes/no): ')\n",
    "    if again.lower() == 'yes':\n",
    "        new_board()\n",
    "\n",
    "new_board()"
   ]
  }
 ],
 "metadata": {
  "kernelspec": {
   "display_name": "Python 3 (ipykernel)",
   "language": "python",
   "name": "python3"
  },
  "language_info": {
   "codemirror_mode": {
    "name": "ipython",
    "version": 3
   },
   "file_extension": ".py",
   "mimetype": "text/x-python",
   "name": "python",
   "nbconvert_exporter": "python",
   "pygments_lexer": "ipython3",
   "version": "3.12.7"
  }
 },
 "nbformat": 4,
 "nbformat_minor": 5
}
